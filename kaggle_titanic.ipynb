{
 "cells": [
  {
   "cell_type": "markdown",
   "metadata": {
    "collapsed": true
   },
   "source": [
    "# Creating a kaggle Workflow\n",
    "\n",
    "## surveying on the survived from tragedy of the titanic"
   ]
  },
  {
   "cell_type": "code",
   "execution_count": 1,
   "metadata": {
    "collapsed": false
   },
   "outputs": [
    {
     "name": "stdout",
     "output_type": "stream",
     "text": [
      "   PassengerId  Pclass                                          Name     Sex  \\\n",
      "0          892       3                              Kelly, Mr. James    male   \n",
      "1          893       3              Wilkes, Mrs. James (Ellen Needs)  female   \n",
      "2          894       2                     Myles, Mr. Thomas Francis    male   \n",
      "3          895       3                              Wirz, Mr. Albert    male   \n",
      "4          896       3  Hirvonen, Mrs. Alexander (Helga E Lindqvist)  female   \n",
      "\n",
      "    Age  SibSp  Parch   Ticket     Fare Cabin Embarked  \n",
      "0  34.5      0      0   330911   7.8292   NaN        Q  \n",
      "1  47.0      1      0   363272   7.0000   NaN        S  \n",
      "2  62.0      0      0   240276   9.6875   NaN        Q  \n",
      "3  27.0      0      0   315154   8.6625   NaN        S  \n",
      "4  22.0      1      1  3101298  12.2875   NaN        S  \n"
     ]
    }
   ],
   "source": [
    "### import the pandas library\n",
    "\n",
    "import pandas as pd\n",
    "import numpy as np\n",
    "\n",
    "train= pd.read_csv(\"train.csv\")\n",
    "holdout= pd.read_csv(\"test.csv\")\n",
    "print(holdout.head())"
   ]
  },
  {
   "cell_type": "code",
   "execution_count": 2,
   "metadata": {
    "collapsed": false
   },
   "outputs": [],
   "source": [
    "# %load functions.py\n",
    "def process_missing(df):\n",
    "    \"\"\"Handle various missing values from the data set\n",
    "\n",
    "    Usage\n",
    "    ------\n",
    "\n",
    "    holdout = process_missing(holdout)\n",
    "    \"\"\"\n",
    "    df[\"Fare\"] = df[\"Fare\"].fillna(train[\"Fare\"].mean())\n",
    "    df[\"Embarked\"] = df[\"Embarked\"].fillna(\"S\")\n",
    "    return df\n",
    "\n",
    "def process_age(df):\n",
    "    \"\"\"Process the Age column into pre-defined 'bins' \n",
    "\n",
    "    Usage\n",
    "    ------\n",
    "\n",
    "    train = process_age(train)\n",
    "    \"\"\"\n",
    "    df[\"Age\"] = df[\"Age\"].fillna(-0.5)\n",
    "    cut_points = [-1,0,5,12,18,35,60,100]\n",
    "    label_names = [\"Missing\",\"Infant\",\"Child\",\"Teenager\",\"Young Adult\",\"Adult\",\"Senior\"]\n",
    "    df[\"Age_categories\"] = pd.cut(df[\"Age\"],cut_points,labels=label_names)\n",
    "    return df\n",
    "\n",
    "def process_fare(df):\n",
    "    \"\"\"Process the Fare column into pre-defined 'bins' \n",
    "\n",
    "    Usage\n",
    "    ------\n",
    "\n",
    "    train = process_fare(train)\n",
    "    \"\"\"\n",
    "    cut_points = [-1,12,50,100,1000]\n",
    "    label_names = [\"0-12\",\"12-50\",\"50-100\",\"100+\"]\n",
    "    df[\"Fare_categories\"] = pd.cut(df[\"Fare\"],cut_points,labels=label_names)\n",
    "    return df\n",
    "\n",
    "def process_cabin(df):\n",
    "    \"\"\"Process the Cabin column into pre-defined 'bins' \n",
    "\n",
    "    Usage\n",
    "    ------\n",
    "\n",
    "    train process_cabin(train)\n",
    "    \"\"\"\n",
    "    df[\"Cabin_type\"] = df[\"Cabin\"].str[0]\n",
    "    df[\"Cabin_type\"] = df[\"Cabin_type\"].fillna(\"Unknown\")\n",
    "    df = df.drop('Cabin',axis=1)\n",
    "    return df\n",
    "\n",
    "def process_titles(df):\n",
    "    \"\"\"Extract and categorize the title from the name column \n",
    "\n",
    "    Usage\n",
    "    ------\n",
    "\n",
    "    train = process_titles(train)\n",
    "    \"\"\"\n",
    "    titles = {\n",
    "        \"Mr\" :         \"Mr\",\n",
    "        \"Mme\":         \"Mrs\",\n",
    "        \"Ms\":          \"Mrs\",\n",
    "        \"Mrs\" :        \"Mrs\",\n",
    "        \"Master\" :     \"Master\",\n",
    "        \"Mlle\":        \"Miss\",\n",
    "        \"Miss\" :       \"Miss\",\n",
    "        \"Capt\":        \"Officer\",\n",
    "        \"Col\":         \"Officer\",\n",
    "        \"Major\":       \"Officer\",\n",
    "        \"Dr\":          \"Officer\",\n",
    "        \"Rev\":         \"Officer\",\n",
    "        \"Jonkheer\":    \"Royalty\",\n",
    "        \"Don\":         \"Royalty\",\n",
    "        \"Sir\" :        \"Royalty\",\n",
    "        \"Countess\":    \"Royalty\",\n",
    "        \"Dona\":        \"Royalty\",\n",
    "        \"Lady\" :       \"Royalty\"\n",
    "    }\n",
    "    extracted_titles = df[\"Name\"].str.extract(' ([A-Za-z]+)\\.',expand=False)\n",
    "    df[\"Title\"] = extracted_titles.map(titles)\n",
    "    return df\n",
    "\n",
    "def create_dummies(df,column_name):\n",
    "    \"\"\"Create Dummy Columns (One Hot Encoding) from a single Column\n",
    "\n",
    "    Usage\n",
    "    ------\n",
    "\n",
    "    train = create_dummies(train,\"Age\")\n",
    "    \"\"\"\n",
    "    dummies = pd.get_dummies(df[column_name],prefix=column_name)\n",
    "    df = pd.concat([df,dummies],axis=1)\n",
    "    return df"
   ]
  },
  {
   "cell_type": "code",
   "execution_count": 3,
   "metadata": {
    "collapsed": false
   },
   "outputs": [],
   "source": [
    "def process_all(df):\n",
    "    df= process_missing(df)\n",
    "    df= process_age(df)\n",
    "    df= process_fare(df)\n",
    "    df= process_titles(df)\n",
    "    df= process_cabin(df)\n",
    "    cols= [\"Age_categories\",\"Fare_categories\",\"Title\",\"Cabin_type\",\"Sex\"]\n",
    "    for c in cols:\n",
    "        df= create_dummies(df,c)  \n",
    "    return df\n",
    "train= process_all(train)\n",
    "holdout= process_all(holdout)"
   ]
  },
  {
   "cell_type": "markdown",
   "metadata": {
    "collapsed": true
   },
   "source": [
    "### For to do a best pratice, we are going to use this cycle :"
   ]
  },
  {
   "cell_type": "markdown",
   "metadata": {},
   "source": [
    "### - Data exploration\n",
    "### - Features engineering\n",
    "### - Features selection\n",
    "### - Model selection/tuning"
   ]
  },
  {
   "cell_type": "code",
   "execution_count": 4,
   "metadata": {
    "collapsed": false
   },
   "outputs": [
    {
     "name": "stdout",
     "output_type": "stream",
     "text": [
      "SibSp    int64\n",
      "Parch    int64\n",
      "dtype: object\n"
     ]
    }
   ],
   "source": [
    "### Let's make our data exploration onto \"SibSp\",\"Parch\" columns\n",
    "cols= [\"SibSp\",\"Parch\"]\n",
    "print(train[cols].dtypes)"
   ]
  },
  {
   "cell_type": "code",
   "execution_count": 5,
   "metadata": {
    "collapsed": false
   },
   "outputs": [
    {
     "data": {
      "image/png": "[encoded data removed]",
      "text/plain": [
       "<matplotlib.figure.Figure at 0x7ff445baf240>"
      ]
     },
     "metadata": {},
     "output_type": "display_data"
    },
    {
     "data": {
      "image/png": "[encoded data removed]",
      "text/plain": [
       "<matplotlib.figure.Figure at 0x7ff438c50ac8>"
      ]
     },
     "metadata": {},
     "output_type": "display_data"
    }
   ],
   "source": [
    "### Now let's visualize the distributions\n",
    "\n",
    "import matplotlib.pyplot as plt\n",
    "%matplotlib inline\n",
    "import seaborn as sns\n",
    "\n",
    "for c in cols:\n",
    "    fig,ax = plt.subplots(figsize=(6,5))\n",
    "    ax= sns.distplot(train[c])\n",
    "plt.show()"
   ]
  },
  {
   "cell_type": "code",
   "execution_count": 6,
   "metadata": {
    "collapsed": false
   },
   "outputs": [],
   "source": [
    "rate_s= pd.pivot_table(train,[\"SibSp\",\"Parch\"],\"Survived\")"
   ]
  },
  {
   "cell_type": "code",
   "execution_count": 7,
   "metadata": {
    "collapsed": false,
    "scrolled": true
   },
   "outputs": [
    {
     "data": {
      "text/html": [
       "<div>\n",
       "<style scoped>\n",
       "    .dataframe tbody tr th:only-of-type {\n",
       "        vertical-align: middle;\n",
       "    }\n",
       "\n",
       "    .dataframe tbody tr th {\n",
       "        vertical-align: top;\n",
       "    }\n",
       "\n",
       "    .dataframe thead th {\n",
       "        text-align: right;\n",
       "    }\n",
       "</style>\n",
       "<table border=\"1\" class=\"dataframe\">\n",
       "  <thead>\n",
       "    <tr style=\"text-align: right;\">\n",
       "      <th></th>\n",
       "      <th>Parch</th>\n",
       "      <th>SibSp</th>\n",
       "    </tr>\n",
       "    <tr>\n",
       "      <th>Survived</th>\n",
       "      <th></th>\n",
       "      <th></th>\n",
       "    </tr>\n",
       "  </thead>\n",
       "  <tbody>\n",
       "    <tr>\n",
       "      <th>0</th>\n",
       "      <td>0.329690</td>\n",
       "      <td>0.553734</td>\n",
       "    </tr>\n",
       "    <tr>\n",
       "      <th>1</th>\n",
       "      <td>0.464912</td>\n",
       "      <td>0.473684</td>\n",
       "    </tr>\n",
       "  </tbody>\n",
       "</table>\n",
       "</div>"
      ],
      "text/plain": [
       "             Parch     SibSp\n",
       "Survived                    \n",
       "0         0.329690  0.553734\n",
       "1         0.464912  0.473684"
      ]
     },
     "execution_count": 7,
     "metadata": {},
     "output_type": "execute_result"
    }
   ],
   "source": [
    "rate_s"
   ]
  },
  {
   "cell_type": "markdown",
   "metadata": {},
   "source": [
    "We can see that in the Parch column we have more survivors than deaths and in the SibSp column we have more deaths than survivors."
   ]
  },
  {
   "cell_type": "code",
   "execution_count": 8,
   "metadata": {
    "collapsed": false
   },
   "outputs": [
    {
     "data": {
      "image/png": "[encoded data removed]",
      "text/plain": [
       "<matplotlib.figure.Figure at 0x7ff438b31128>"
      ]
     },
     "metadata": {},
     "output_type": "display_data"
    },
    {
     "data": {
      "image/png": "[encoded data removed]",
      "text/plain": [
       "<matplotlib.figure.Figure at 0x7ff438ac6c88>"
      ]
     },
     "metadata": {},
     "output_type": "display_data"
    }
   ],
   "source": [
    "for c in [\"Parch\",\"SibSp\"]:\n",
    "    g= sns.FacetGrid(train,col=\"Survived\")\n",
    "    g.map(sns.distplot,c)\n",
    "plt.show()"
   ]
  },
  {
   "cell_type": "code",
   "execution_count": 9,
   "metadata": {
    "collapsed": true
   },
   "outputs": [],
   "source": [
    "def isalone(val):\n",
    "    if val>=1:\n",
    "        return 0\n",
    "    else:\n",
    "        return 1\n",
    "    \n",
    "def new_feature(df):\n",
    "    df['familysize'] = df[[\"SibSp\",\"Parch\"]].sum(axis=1)\n",
    "    df[\"isalone\"]= df[\"familysize\"].map(isalone)\n",
    "    return df\n",
    "\n",
    "train= new_feature(train)\n",
    "holdout= new_feature(holdout)"
   ]
  },
  {
   "cell_type": "code",
   "execution_count": 10,
   "metadata": {
    "collapsed": false
   },
   "outputs": [
    {
     "data": {
      "image/png": "[encoded data removed]",
      "text/plain": [
       "<matplotlib.figure.Figure at 0x7ff4389d77f0>"
      ]
     },
     "metadata": {},
     "output_type": "display_data"
    }
   ],
   "source": [
    "### Let's visualize the combined columns\n",
    "\n",
    "explore_cols = [\"SibSp\",\"Parch\",\"Survived\"]\n",
    "explore = train[explore_cols].copy()\n",
    "\n",
    "explore['familysize'] = explore[[\"SibSp\",\"Parch\"]].sum(axis=1)\n",
    "\n",
    "pivot = explore.pivot_table(index='familysize',values=\"Survived\")\n",
    "pivot.plot.bar(ylim=(0,1),yticks=np.arange(0,1,.1))\n",
    "plt.show()"
   ]
  },
  {
   "cell_type": "code",
   "execution_count": 11,
   "metadata": {
    "collapsed": false
   },
   "outputs": [
    {
     "data": {
      "text/plain": [
       "PassengerId                      int64\n",
       "Survived                         int64\n",
       "Pclass                           int64\n",
       "Name                            object\n",
       "Sex                             object\n",
       "Age                            float64\n",
       "SibSp                            int64\n",
       "Parch                            int64\n",
       "Ticket                          object\n",
       "Fare                           float64\n",
       "Embarked                        object\n",
       "Age_categories                category\n",
       "Fare_categories               category\n",
       "Title                           object\n",
       "Cabin_type                      object\n",
       "Age_categories_Missing           uint8\n",
       "Age_categories_Infant            uint8\n",
       "Age_categories_Child             uint8\n",
       "Age_categories_Teenager          uint8\n",
       "Age_categories_Young Adult       uint8\n",
       "Age_categories_Adult             uint8\n",
       "Age_categories_Senior            uint8\n",
       "Fare_categories_0-12             uint8\n",
       "Fare_categories_12-50            uint8\n",
       "Fare_categories_50-100           uint8\n",
       "Fare_categories_100+             uint8\n",
       "Title_Master                     uint8\n",
       "Title_Miss                       uint8\n",
       "Title_Mr                         uint8\n",
       "Title_Mrs                        uint8\n",
       "Title_Officer                    uint8\n",
       "Title_Royalty                    uint8\n",
       "Cabin_type_A                     uint8\n",
       "Cabin_type_B                     uint8\n",
       "Cabin_type_C                     uint8\n",
       "Cabin_type_D                     uint8\n",
       "Cabin_type_E                     uint8\n",
       "Cabin_type_F                     uint8\n",
       "Cabin_type_G                     uint8\n",
       "Cabin_type_T                     uint8\n",
       "Cabin_type_Unknown               uint8\n",
       "Sex_female                       uint8\n",
       "Sex_male                         uint8\n",
       "familysize                       int64\n",
       "isalone                          int64\n",
       "dtype: object"
      ]
     },
     "execution_count": 11,
     "metadata": {},
     "output_type": "execute_result"
    }
   ],
   "source": [
    "train.dtypes"
   ]
  },
  {
   "cell_type": "code",
   "execution_count": 12,
   "metadata": {
    "collapsed": false
   },
   "outputs": [
    {
     "name": "stderr",
     "output_type": "stream",
     "text": [
      "/dataquest/system/env/python3/lib/python3.4/site-packages/sklearn/utils/__init__.py:54: FutureWarning:\n",
      "\n",
      "Conversion of the second argument of issubdtype from `int` to `np.signedinteger` is deprecated. In future, it will be treated as `np.int64 == np.dtype(int).type`.\n",
      "\n"
     ]
    }
   ],
   "source": [
    "### Now we gonna search the best features who perfom better.\n",
    "\n",
    "from sklearn.feature_selection import RFECV\n",
    "from sklearn.ensemble import RandomForestClassifier\n",
    "\n",
    "def select_features(df):\n",
    "    df= df.select_dtypes(include=\"number\")\n",
    "    df= df.dropna(axis=1)\n",
    "    all_X= df[df.drop([\"PassengerId\",\"Survived\"],axis=1).columns]\n",
    "    all_y= df[\"Survived\"]\n",
    "    rf= RandomForestClassifier(random_state=1)\n",
    "    selector= RFECV(rf,cv= 10)\n",
    "    selector.fit(all_X,all_y)\n",
    "    optimized_columns= all_X.columns[selector.support_] \n",
    "    return optimized_columns\n",
    "\n",
    "optimized_features= select_features(train)"
   ]
  },
  {
   "cell_type": "code",
   "execution_count": 17,
   "metadata": {
    "collapsed": false
   },
   "outputs": [],
   "source": [
    "### Now let's research the best model and parameters\n",
    "\n",
    "from sklearn.model_selection import GridSearchCV\n",
    "from sklearn.neighbors import KNeighborsClassifier\n",
    "from sklearn.linear_model import LogisticRegression\n",
    "\n",
    "def select_model(df,features):\n",
    "    all_X= df[features]\n",
    "    all_y= df[\"Survived\"]\n",
    "    models= [\n",
    "        {\"name\": \"LogisticRegression\",\n",
    "         \"estimator\": LogisticRegression(),\n",
    "         \"hyperparameters\": {\n",
    "             \"solver\": [\"newton-cg\", \"lbfgs\", \"liblinear\"]\n",
    "         }\n",
    "        },\n",
    "        {\n",
    "            \"name\": \"KNeighborsClassifier\",\n",
    "            \"estimator\": KNeighborsClassifier(),\n",
    "            \"hyperparameters\": {\n",
    "                \"n_neighbors\": range(1,20,2),\n",
    "                \"weights\": [\"distance\", \"uniform\"],\n",
    "                \"algorithm\": [\"ball_tree\", \"kd_tree\", \"brute\"],\n",
    "                \"p\": [1,2]\n",
    "                }\n",
    "        },\n",
    "        {\n",
    "            \"name\": \"RandomForestClassifier\",\n",
    "            \"estimator\": RandomForestClassifier(),\n",
    "            \"hyperparameters\": {\n",
    "                \"n_estimators\": [4, 6, 9],\n",
    "                \"criterion\": [\"entropy\", \"gini\"],\n",
    "                \"max_depth\": [2, 5, 10],\n",
    "                \"max_features\": [\"log2\", \"sqrt\"],\n",
    "                \"min_samples_leaf\": [1, 5, 8],\n",
    "                \"min_samples_split\": [2, 3, 5]\n",
    "                }\n",
    "         }          \n",
    "    ]\n",
    "    for m in models:\n",
    "        print(m[\"name\"])\n",
    "        gs= GridSearchCV(m[\"estimator\"],param_grid= m[\"hyperparameters\"],cv= 10)\n",
    "        gs.fit(all_X,all_y)\n",
    "        m[\"best_params\"]= gs.best_params_\n",
    "        m[\"best_score_\"]= gs.best_score_\n",
    "        m[\"best_estimator\"]= gs.best_estimator_\n",
    "        print(\"the best params: {}\".format(m[\"best_params\"]))\n",
    "        print(\"the best score: {}\".format(m[\"best_score_\"]))\n",
    "        print(\"the best estimator: {}\".format(m[\"best_estimator\"]))\n",
    "    return models\n"
   ]
  },
  {
   "cell_type": "code",
   "execution_count": 19,
   "metadata": {
    "collapsed": false
   },
   "outputs": [
    {
     "name": "stdout",
     "output_type": "stream",
     "text": [
      "LogisticRegression\n",
      "the best params: {'solver': 'newton-cg'}\n",
      "the best score: 0.8181818181818182\n",
      "the best estimator: LogisticRegression(C=1.0, class_weight=None, dual=False, fit_intercept=True,\n",
      "          intercept_scaling=1, max_iter=100, multi_class='ovr', n_jobs=1,\n",
      "          penalty='l2', random_state=None, solver='newton-cg', tol=0.0001,\n",
      "          verbose=0, warm_start=False)\n",
      "KNeighborsClassifier\n",
      "the best params: {'n_neighbors': 3, 'p': 1, 'weights': 'uniform', 'algorithm': 'kd_tree'}\n",
      "the best score: 0.7800224466891134\n",
      "the best estimator: KNeighborsClassifier(algorithm='kd_tree', leaf_size=30, metric='minkowski',\n",
      "           metric_params=None, n_jobs=1, n_neighbors=3, p=1,\n",
      "           weights='uniform')\n",
      "RandomForestClassifier\n",
      "the best params: {'criterion': 'gini', 'max_features': 'log2', 'n_estimators': 6, 'min_samples_leaf': 1, 'max_depth': 10, 'min_samples_split': 5}\n",
      "the best score: 0.8428731762065096\n",
      "the best estimator: RandomForestClassifier(bootstrap=True, class_weight=None, criterion='gini',\n",
      "            max_depth=10, max_features='log2', max_leaf_nodes=None,\n",
      "            min_impurity_split=1e-07, min_samples_leaf=1,\n",
      "            min_samples_split=5, min_weight_fraction_leaf=0.0,\n",
      "            n_estimators=6, n_jobs=1, oob_score=False, random_state=None,\n",
      "            verbose=0, warm_start=False)\n"
     ]
    },
    {
     "data": {
      "text/plain": [
       "[{'best_estimator': LogisticRegression(C=1.0, class_weight=None, dual=False, fit_intercept=True,\n",
       "            intercept_scaling=1, max_iter=100, multi_class='ovr', n_jobs=1,\n",
       "            penalty='l2', random_state=None, solver='newton-cg', tol=0.0001,\n",
       "            verbose=0, warm_start=False),\n",
       "  'best_params': {'solver': 'newton-cg'},\n",
       "  'best_score_': 0.8181818181818182,\n",
       "  'estimator': LogisticRegression(C=1.0, class_weight=None, dual=False, fit_intercept=True,\n",
       "            intercept_scaling=1, max_iter=100, multi_class='ovr', n_jobs=1,\n",
       "            penalty='l2', random_state=None, solver='liblinear', tol=0.0001,\n",
       "            verbose=0, warm_start=False),\n",
       "  'hyperparameters': {'solver': ['newton-cg', 'lbfgs', 'liblinear']},\n",
       "  'name': 'LogisticRegression'},\n",
       " {'best_estimator': KNeighborsClassifier(algorithm='kd_tree', leaf_size=30, metric='minkowski',\n",
       "             metric_params=None, n_jobs=1, n_neighbors=3, p=1,\n",
       "             weights='uniform'),\n",
       "  'best_params': {'algorithm': 'kd_tree',\n",
       "   'n_neighbors': 3,\n",
       "   'p': 1,\n",
       "   'weights': 'uniform'},\n",
       "  'best_score_': 0.7800224466891134,\n",
       "  'estimator': KNeighborsClassifier(algorithm='auto', leaf_size=30, metric='minkowski',\n",
       "             metric_params=None, n_jobs=1, n_neighbors=5, p=2,\n",
       "             weights='uniform'),\n",
       "  'hyperparameters': {'algorithm': ['ball_tree', 'kd_tree', 'brute'],\n",
       "   'n_neighbors': range(1, 20, 2),\n",
       "   'p': [1, 2],\n",
       "   'weights': ['distance', 'uniform']},\n",
       "  'name': 'KNeighborsClassifier'},\n",
       " {'best_estimator': RandomForestClassifier(bootstrap=True, class_weight=None, criterion='gini',\n",
       "              max_depth=10, max_features='log2', max_leaf_nodes=None,\n",
       "              min_impurity_split=1e-07, min_samples_leaf=1,\n",
       "              min_samples_split=5, min_weight_fraction_leaf=0.0,\n",
       "              n_estimators=6, n_jobs=1, oob_score=False, random_state=None,\n",
       "              verbose=0, warm_start=False),\n",
       "  'best_params': {'criterion': 'gini',\n",
       "   'max_depth': 10,\n",
       "   'max_features': 'log2',\n",
       "   'min_samples_leaf': 1,\n",
       "   'min_samples_split': 5,\n",
       "   'n_estimators': 6},\n",
       "  'best_score_': 0.8428731762065096,\n",
       "  'estimator': RandomForestClassifier(bootstrap=True, class_weight=None, criterion='gini',\n",
       "              max_depth=None, max_features='auto', max_leaf_nodes=None,\n",
       "              min_impurity_split=1e-07, min_samples_leaf=1,\n",
       "              min_samples_split=2, min_weight_fraction_leaf=0.0,\n",
       "              n_estimators=10, n_jobs=1, oob_score=False, random_state=None,\n",
       "              verbose=0, warm_start=False),\n",
       "  'hyperparameters': {'criterion': ['entropy', 'gini'],\n",
       "   'max_depth': [2, 5, 10],\n",
       "   'max_features': ['log2', 'sqrt'],\n",
       "   'min_samples_leaf': [1, 5, 8],\n",
       "   'min_samples_split': [2, 3, 5],\n",
       "   'n_estimators': [4, 6, 9]},\n",
       "  'name': 'RandomForestClassifier'}]"
      ]
     },
     "execution_count": 19,
     "metadata": {},
     "output_type": "execute_result"
    }
   ],
   "source": [
    "best_model= select_model(train,optimized_features)\n",
    "best_model"
   ]
  },
  {
   "cell_type": "code",
   "execution_count": 23,
   "metadata": {
    "collapsed": true
   },
   "outputs": [],
   "source": [
    "def save_submission_file(trained_model,cols,filename):\n",
    "    predictions= trained_model.predict(holdout[cols])\n",
    "    df= {\n",
    "        \"PassengerId\": holdout[\"PassengerId\"],\n",
    "        \"Survived\": predictions\n",
    "    }\n",
    "    submission_df= pd.DataFrame(df)\n",
    "    submission_df.to_csv(filename,index= False)"
   ]
  },
  {
   "cell_type": "code",
   "execution_count": 24,
   "metadata": {
    "collapsed": false
   },
   "outputs": [],
   "source": [
    "model= best_model[2][\"best_estimator\"]\n",
    "save_submission_file(model,optimized_features,\"submission_3.csv\")"
   ]
  },
  {
   "cell_type": "code",
   "execution_count": null,
   "metadata": {
    "collapsed": true
   },
   "outputs": [],
   "source": []
  }
 ],
 "metadata": {
  "kernelspec": {
   "display_name": "Python 3",
   "language": "python",
   "name": "python3"
  },
  "language_info": {
   "codemirror_mode": {
    "name": "ipython",
    "version": 3
   },
   "file_extension": ".py",
   "mimetype": "text/x-python",
   "name": "python",
   "nbconvert_exporter": "python",
   "pygments_lexer": "ipython3",
   "version": "3.4.3"
  }
 },
 "nbformat": 4,
 "nbformat_minor": 2
}
