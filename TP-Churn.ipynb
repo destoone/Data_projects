{
 "cells": [
  {
   "cell_type": "markdown",
   "metadata": {},
   "source": [
    "# <u>Hands-on work</u>: Churn Prediction"
   ]
  },
  {
   "cell_type": "markdown",
   "metadata": {},
   "source": [
    "### Business problem\n",
    "\n",
    "![](img/1_X-oZNRw5Pnef-kR9CgLx1g.png)"
   ]
  },
  {
   "cell_type": "markdown",
   "metadata": {},
   "source": [
    "Churn or retention Rate is an indication of how good is your product market fit (PMF). If your PMF is not satisfactory, you should see your customers churning very soon. One of the powerful tools to improve Retention Rate (hence the PMF) is Churn Prediction. By using this technique, you can easily find out who is likely to churn in the given period. In this notebook, we will use a dataset having these different columns:\n",
    "\n",
    "- `RowNumber`: number of rows entered\n",
    "- `CustomerId`: identifier of each customer\n",
    "- `Surname`: surname of each customer\n",
    "- `CreditScore`: number that reflects the likelihood of you paying credit back\n",
    "- `Geography`: name of coutries of each customer\n",
    "- `Gender`: gender of each customer\n",
    "- `Age`: age of each customer\n",
    "- `Tenure`: number of mortgages on each customer home for a certain pre-determined amount\n",
    "- `Balance`: an amount of money each customer have in a bank account\n",
    "- `NumOfProducts`: number of products of each customer\n",
    "- `HasCrCard`: if a customer has a card or not\n",
    "- `IsActiveMember`: if a customer is a active member\n",
    "- `EstimatedSalary`: salary of each customer\n",
    "- `Exited`: target column\n",
    "\n",
    "And go over the following steps to develop a Churn Prediction model:\n",
    "\n",
    "##### I- Exploratory data analysis\n",
    "##### II- Feature engineering\n",
    "##### III- Features select\n",
    "##### IV- Feature select/tuning"
   ]
  },
  {
   "cell_type": "code",
   "execution_count": 2,
   "metadata": {},
   "outputs": [],
   "source": [
    "### Before to start, we gonna redefine our dataset in 2 set.\n",
    "### we will have the Train and holdout data.\n",
    "\n",
    "import pandas as pd\n",
    "import numpy as np\n",
    "\n",
    "df= pd.read_csv(\"Churn.csv\")\n",
    "lenght= int(len(df)*0.8)\n",
    "train= df[:lenght]\n",
    "holdout= df[lenght:].reset_index().drop(\"index\",axis=1)"
   ]
  },
  {
   "cell_type": "code",
   "execution_count": 3,
   "metadata": {},
   "outputs": [
    {
     "name": "stdout",
     "output_type": "stream",
     "text": [
      "2000\n"
     ]
    },
    {
     "data": {
      "text/html": [
       "<div>\n",
       "<style scoped>\n",
       "    .dataframe tbody tr th:only-of-type {\n",
       "        vertical-align: middle;\n",
       "    }\n",
       "\n",
       "    .dataframe tbody tr th {\n",
       "        vertical-align: top;\n",
       "    }\n",
       "\n",
       "    .dataframe thead th {\n",
       "        text-align: right;\n",
       "    }\n",
       "</style>\n",
       "<table border=\"1\" class=\"dataframe\">\n",
       "  <thead>\n",
       "    <tr style=\"text-align: right;\">\n",
       "      <th></th>\n",
       "      <th>RowNumber</th>\n",
       "      <th>CustomerId</th>\n",
       "      <th>Surname</th>\n",
       "      <th>CreditScore</th>\n",
       "      <th>Geography</th>\n",
       "      <th>Gender</th>\n",
       "      <th>Age</th>\n",
       "      <th>Tenure</th>\n",
       "      <th>Balance</th>\n",
       "      <th>NumOfProducts</th>\n",
       "      <th>HasCrCard</th>\n",
       "      <th>IsActiveMember</th>\n",
       "      <th>EstimatedSalary</th>\n",
       "      <th>Exited</th>\n",
       "    </tr>\n",
       "  </thead>\n",
       "  <tbody>\n",
       "    <tr>\n",
       "      <td>0</td>\n",
       "      <td>8001</td>\n",
       "      <td>15629002</td>\n",
       "      <td>Hamilton</td>\n",
       "      <td>747</td>\n",
       "      <td>Germany</td>\n",
       "      <td>Male</td>\n",
       "      <td>36</td>\n",
       "      <td>8</td>\n",
       "      <td>102603.30</td>\n",
       "      <td>2</td>\n",
       "      <td>1</td>\n",
       "      <td>1</td>\n",
       "      <td>180693.61</td>\n",
       "      <td>0</td>\n",
       "    </tr>\n",
       "    <tr>\n",
       "      <td>1</td>\n",
       "      <td>8002</td>\n",
       "      <td>15798053</td>\n",
       "      <td>Nnachetam</td>\n",
       "      <td>707</td>\n",
       "      <td>Spain</td>\n",
       "      <td>Male</td>\n",
       "      <td>32</td>\n",
       "      <td>9</td>\n",
       "      <td>0.00</td>\n",
       "      <td>2</td>\n",
       "      <td>1</td>\n",
       "      <td>0</td>\n",
       "      <td>126475.79</td>\n",
       "      <td>0</td>\n",
       "    </tr>\n",
       "    <tr>\n",
       "      <td>2</td>\n",
       "      <td>8003</td>\n",
       "      <td>15753895</td>\n",
       "      <td>Blue</td>\n",
       "      <td>590</td>\n",
       "      <td>Spain</td>\n",
       "      <td>Male</td>\n",
       "      <td>37</td>\n",
       "      <td>1</td>\n",
       "      <td>0.00</td>\n",
       "      <td>2</td>\n",
       "      <td>0</td>\n",
       "      <td>0</td>\n",
       "      <td>133535.99</td>\n",
       "      <td>0</td>\n",
       "    </tr>\n",
       "    <tr>\n",
       "      <td>3</td>\n",
       "      <td>8004</td>\n",
       "      <td>15595426</td>\n",
       "      <td>Madukwe</td>\n",
       "      <td>603</td>\n",
       "      <td>Spain</td>\n",
       "      <td>Male</td>\n",
       "      <td>57</td>\n",
       "      <td>6</td>\n",
       "      <td>105000.85</td>\n",
       "      <td>2</td>\n",
       "      <td>1</td>\n",
       "      <td>1</td>\n",
       "      <td>87412.24</td>\n",
       "      <td>1</td>\n",
       "    </tr>\n",
       "    <tr>\n",
       "      <td>4</td>\n",
       "      <td>8005</td>\n",
       "      <td>15645815</td>\n",
       "      <td>Mills</td>\n",
       "      <td>615</td>\n",
       "      <td>France</td>\n",
       "      <td>Male</td>\n",
       "      <td>45</td>\n",
       "      <td>5</td>\n",
       "      <td>0.00</td>\n",
       "      <td>2</td>\n",
       "      <td>1</td>\n",
       "      <td>1</td>\n",
       "      <td>164886.64</td>\n",
       "      <td>0</td>\n",
       "    </tr>\n",
       "  </tbody>\n",
       "</table>\n",
       "</div>"
      ],
      "text/plain": [
       "   RowNumber  CustomerId    Surname  CreditScore Geography Gender  Age  \\\n",
       "0       8001    15629002   Hamilton          747   Germany   Male   36   \n",
       "1       8002    15798053  Nnachetam          707     Spain   Male   32   \n",
       "2       8003    15753895       Blue          590     Spain   Male   37   \n",
       "3       8004    15595426    Madukwe          603     Spain   Male   57   \n",
       "4       8005    15645815      Mills          615    France   Male   45   \n",
       "\n",
       "   Tenure    Balance  NumOfProducts  HasCrCard  IsActiveMember  \\\n",
       "0       8  102603.30              2          1               1   \n",
       "1       9       0.00              2          1               0   \n",
       "2       1       0.00              2          0               0   \n",
       "3       6  105000.85              2          1               1   \n",
       "4       5       0.00              2          1               1   \n",
       "\n",
       "   EstimatedSalary  Exited  \n",
       "0        180693.61       0  \n",
       "1        126475.79       0  \n",
       "2        133535.99       0  \n",
       "3         87412.24       1  \n",
       "4        164886.64       0  "
      ]
     },
     "execution_count": 3,
     "metadata": {},
     "output_type": "execute_result"
    }
   ],
   "source": [
    "print(holdout.shape[0])\n",
    "holdout.head()"
   ]
  },
  {
   "cell_type": "code",
   "execution_count": 4,
   "metadata": {},
   "outputs": [
    {
     "name": "stdout",
     "output_type": "stream",
     "text": [
      "8000\n"
     ]
    },
    {
     "data": {
      "text/html": [
       "<div>\n",
       "<style scoped>\n",
       "    .dataframe tbody tr th:only-of-type {\n",
       "        vertical-align: middle;\n",
       "    }\n",
       "\n",
       "    .dataframe tbody tr th {\n",
       "        vertical-align: top;\n",
       "    }\n",
       "\n",
       "    .dataframe thead th {\n",
       "        text-align: right;\n",
       "    }\n",
       "</style>\n",
       "<table border=\"1\" class=\"dataframe\">\n",
       "  <thead>\n",
       "    <tr style=\"text-align: right;\">\n",
       "      <th></th>\n",
       "      <th>RowNumber</th>\n",
       "      <th>CustomerId</th>\n",
       "      <th>Surname</th>\n",
       "      <th>CreditScore</th>\n",
       "      <th>Geography</th>\n",
       "      <th>Gender</th>\n",
       "      <th>Age</th>\n",
       "      <th>Tenure</th>\n",
       "      <th>Balance</th>\n",
       "      <th>NumOfProducts</th>\n",
       "      <th>HasCrCard</th>\n",
       "      <th>IsActiveMember</th>\n",
       "      <th>EstimatedSalary</th>\n",
       "      <th>Exited</th>\n",
       "    </tr>\n",
       "  </thead>\n",
       "  <tbody>\n",
       "    <tr>\n",
       "      <td>0</td>\n",
       "      <td>1</td>\n",
       "      <td>15634602</td>\n",
       "      <td>Hargrave</td>\n",
       "      <td>619</td>\n",
       "      <td>France</td>\n",
       "      <td>Female</td>\n",
       "      <td>42</td>\n",
       "      <td>2</td>\n",
       "      <td>0.00</td>\n",
       "      <td>1</td>\n",
       "      <td>1</td>\n",
       "      <td>1</td>\n",
       "      <td>101348.88</td>\n",
       "      <td>1</td>\n",
       "    </tr>\n",
       "    <tr>\n",
       "      <td>1</td>\n",
       "      <td>2</td>\n",
       "      <td>15647311</td>\n",
       "      <td>Hill</td>\n",
       "      <td>608</td>\n",
       "      <td>Spain</td>\n",
       "      <td>Female</td>\n",
       "      <td>41</td>\n",
       "      <td>1</td>\n",
       "      <td>83807.86</td>\n",
       "      <td>1</td>\n",
       "      <td>0</td>\n",
       "      <td>1</td>\n",
       "      <td>112542.58</td>\n",
       "      <td>0</td>\n",
       "    </tr>\n",
       "    <tr>\n",
       "      <td>2</td>\n",
       "      <td>3</td>\n",
       "      <td>15619304</td>\n",
       "      <td>Onio</td>\n",
       "      <td>502</td>\n",
       "      <td>France</td>\n",
       "      <td>Female</td>\n",
       "      <td>42</td>\n",
       "      <td>8</td>\n",
       "      <td>159660.80</td>\n",
       "      <td>3</td>\n",
       "      <td>1</td>\n",
       "      <td>0</td>\n",
       "      <td>113931.57</td>\n",
       "      <td>1</td>\n",
       "    </tr>\n",
       "    <tr>\n",
       "      <td>3</td>\n",
       "      <td>4</td>\n",
       "      <td>15701354</td>\n",
       "      <td>Boni</td>\n",
       "      <td>699</td>\n",
       "      <td>France</td>\n",
       "      <td>Female</td>\n",
       "      <td>39</td>\n",
       "      <td>1</td>\n",
       "      <td>0.00</td>\n",
       "      <td>2</td>\n",
       "      <td>0</td>\n",
       "      <td>0</td>\n",
       "      <td>93826.63</td>\n",
       "      <td>0</td>\n",
       "    </tr>\n",
       "    <tr>\n",
       "      <td>4</td>\n",
       "      <td>5</td>\n",
       "      <td>15737888</td>\n",
       "      <td>Mitchell</td>\n",
       "      <td>850</td>\n",
       "      <td>Spain</td>\n",
       "      <td>Female</td>\n",
       "      <td>43</td>\n",
       "      <td>2</td>\n",
       "      <td>125510.82</td>\n",
       "      <td>1</td>\n",
       "      <td>1</td>\n",
       "      <td>1</td>\n",
       "      <td>79084.10</td>\n",
       "      <td>0</td>\n",
       "    </tr>\n",
       "  </tbody>\n",
       "</table>\n",
       "</div>"
      ],
      "text/plain": [
       "   RowNumber  CustomerId   Surname  CreditScore Geography  Gender  Age  \\\n",
       "0          1    15634602  Hargrave          619    France  Female   42   \n",
       "1          2    15647311      Hill          608     Spain  Female   41   \n",
       "2          3    15619304      Onio          502    France  Female   42   \n",
       "3          4    15701354      Boni          699    France  Female   39   \n",
       "4          5    15737888  Mitchell          850     Spain  Female   43   \n",
       "\n",
       "   Tenure    Balance  NumOfProducts  HasCrCard  IsActiveMember  \\\n",
       "0       2       0.00              1          1               1   \n",
       "1       1   83807.86              1          0               1   \n",
       "2       8  159660.80              3          1               0   \n",
       "3       1       0.00              2          0               0   \n",
       "4       2  125510.82              1          1               1   \n",
       "\n",
       "   EstimatedSalary  Exited  \n",
       "0        101348.88       1  \n",
       "1        112542.58       0  \n",
       "2        113931.57       1  \n",
       "3         93826.63       0  \n",
       "4         79084.10       0  "
      ]
     },
     "execution_count": 4,
     "metadata": {},
     "output_type": "execute_result"
    }
   ],
   "source": [
    "print(train.shape[0])\n",
    "train.head()"
   ]
  },
  {
   "cell_type": "markdown",
   "metadata": {},
   "source": [
    "### I- <u>Exploratory data analysis</u>"
   ]
  },
  {
   "cell_type": "markdown",
   "metadata": {},
   "source": [
    "**Columns to delete:**\n",
    "we goona delete columns that we don't need to make our predictions. These columns have some trouble like data leak or just not enough useful for our working."
   ]
  },
  {
   "cell_type": "code",
   "execution_count": 5,
   "metadata": {},
   "outputs": [],
   "source": [
    "columns_to_delete= [\"RowNumber\",\"CustomerId\",\"Surname\",\"HasCrCard\",\"IsActiveMember\"]\n",
    "train_copy= train.copy()\n",
    "holdout_copy= holdout.copy()\n",
    "train_copy.drop(columns_to_delete, axis=1, inplace=True)\n",
    "holdout_copy.drop(columns_to_delete, axis=1, inplace=True)"
   ]
  },
  {
   "cell_type": "code",
   "execution_count": 6,
   "metadata": {},
   "outputs": [
    {
     "data": {
      "image/png": "[encoded data removed]",
      "text/plain": [
       "<Figure size 432x288 with 1 Axes>"
      ]
     },
     "metadata": {
      "needs_background": "light"
     },
     "output_type": "display_data"
    }
   ],
   "source": [
    "### Let's look at columns with null values\n",
    "\n",
    "import matplotlib.pyplot as plt\n",
    "%matplotlib inline\n",
    "import seaborn as sns\n",
    "\n",
    "train_null= train_copy.isnull()\n",
    "sns.heatmap(train_null,cbar= False)\n",
    "plt.show()"
   ]
  },
  {
   "cell_type": "code",
   "execution_count": 7,
   "metadata": {},
   "outputs": [
    {
     "name": "stdout",
     "output_type": "stream",
     "text": [
      "CreditScore        0\n",
      "Geography          0\n",
      "Gender             0\n",
      "Age                0\n",
      "Tenure             0\n",
      "Balance            0\n",
      "NumOfProducts      0\n",
      "EstimatedSalary    0\n",
      "Exited             0\n",
      "dtype: int64\n"
     ]
    }
   ],
   "source": [
    "print(train_null.sum())"
   ]
  },
  {
   "cell_type": "markdown",
   "metadata": {},
   "source": [
    "### II- <u>Feature engineering</u>"
   ]
  },
  {
   "cell_type": "markdown",
   "metadata": {},
   "source": [
    "**Functions Pipeline:**\n",
    "   Let's build the functions who allow us to transform our features."
   ]
  },
  {
   "cell_type": "code",
   "execution_count": 8,
   "metadata": {},
   "outputs": [
    {
     "data": {
      "text/plain": [
       "count    8000.000000\n",
       "mean      650.179625\n",
       "std        96.844314\n",
       "min       350.000000\n",
       "25%       583.000000\n",
       "50%       651.000000\n",
       "75%       717.000000\n",
       "max       850.000000\n",
       "Name: CreditScore, dtype: float64"
      ]
     },
     "execution_count": 8,
     "metadata": {},
     "output_type": "execute_result"
    }
   ],
   "source": [
    "### Let's look at how to transform CreditScore column\n",
    "\n",
    "train_copy[\"CreditScore\"].describe(include=\"all\")"
   ]
  },
  {
   "cell_type": "code",
   "execution_count": 9,
   "metadata": {},
   "outputs": [],
   "source": [
    "### Let's assume that we have 3 credit-score type: weak, middle and high.\n",
    "\n",
    "def w_m_h(val):\n",
    "    if val < 600:\n",
    "        return 1\n",
    "    elif val >= 600 and val < 710:\n",
    "        return 2\n",
    "    return 3\n",
    "\n",
    "def process_CreditScore(df):\n",
    "    df[\"CreditScore\"]= df[\"CreditScore\"].map(w_m_h)\n",
    "    return df"
   ]
  },
  {
   "cell_type": "code",
   "execution_count": 10,
   "metadata": {},
   "outputs": [
    {
     "data": {
      "text/plain": [
       "array(['France', 'Spain', 'Germany'], dtype=object)"
      ]
     },
     "execution_count": 10,
     "metadata": {},
     "output_type": "execute_result"
    }
   ],
   "source": [
    "### Let's look at Geography column\n",
    "\n",
    "train_copy[\"Geography\"].unique()"
   ]
  },
  {
   "cell_type": "code",
   "execution_count": 11,
   "metadata": {},
   "outputs": [],
   "source": [
    "def process_Geography(df):\n",
    "    dummies = pd.get_dummies(df[\"Geography\"],prefix=\"Geography\")\n",
    "    df = pd.concat([df,dummies],axis=1)\n",
    "    df= df.drop(\"Geography\",axis=1)\n",
    "    return df"
   ]
  },
  {
   "cell_type": "code",
   "execution_count": 12,
   "metadata": {},
   "outputs": [
    {
     "data": {
      "image/png": "[encoded data removed]",
      "text/plain": [
       "<Figure size 432x288 with 1 Axes>"
      ]
     },
     "metadata": {
      "needs_background": "light"
     },
     "output_type": "display_data"
    }
   ],
   "source": [
    "### Let's look at Gender column\n",
    "### visualize this column\n",
    "\n",
    "plt.hist(train_copy[\"Gender\"])\n",
    "plt.show()"
   ]
  },
  {
   "cell_type": "code",
   "execution_count": 13,
   "metadata": {},
   "outputs": [],
   "source": [
    "def process_Gender(df):\n",
    "    dummies = pd.get_dummies(df[\"Gender\"],prefix=\"Gender\")\n",
    "    df = pd.concat([df,dummies],axis=1)\n",
    "    df= df.drop(\"Gender\",axis=1)\n",
    "    return df"
   ]
  },
  {
   "cell_type": "code",
   "execution_count": 14,
   "metadata": {},
   "outputs": [
    {
     "data": {
      "text/plain": [
       "count    8000.000000\n",
       "mean       38.937875\n",
       "std        10.511224\n",
       "min        18.000000\n",
       "25%        32.000000\n",
       "50%        37.000000\n",
       "75%        44.000000\n",
       "max        92.000000\n",
       "Name: Age, dtype: float64"
      ]
     },
     "execution_count": 14,
     "metadata": {},
     "output_type": "execute_result"
    }
   ],
   "source": [
    "### Let's look at age column\n",
    "\n",
    "train_copy[\"Age\"].describe(include=\"all\")"
   ]
  },
  {
   "cell_type": "code",
   "execution_count": 15,
   "metadata": {},
   "outputs": [],
   "source": [
    "### Let's make a bin and one-hot encoding\n",
    "\n",
    "def process_Age(df):\n",
    "    cut_points = [18,35,60,100]\n",
    "    label_names = [\"Young Adult\",\"Adult\",\"Senior\"]\n",
    "    df[\"Age\"] = pd.cut(df[\"Age\"],cut_points,labels=label_names)\n",
    "    dummies = pd.get_dummies(df[\"Age\"],prefix=\"Age\")\n",
    "    df = pd.concat([df,dummies],axis=1)\n",
    "    df= df.drop(\"Age\",axis=1)\n",
    "    return df"
   ]
  },
  {
   "cell_type": "code",
   "execution_count": 16,
   "metadata": {},
   "outputs": [
    {
     "data": {
      "image/png": "[encoded data removed]",
      "text/plain": [
       "<Figure size 432x288 with 1 Axes>"
      ]
     },
     "metadata": {
      "needs_background": "light"
     },
     "output_type": "display_data"
    }
   ],
   "source": [
    "### Let's look at Tenure column\n",
    "\n",
    "sns.distplot(train_copy[\"Tenure\"])\n",
    "plt.show()"
   ]
  },
  {
   "cell_type": "code",
   "execution_count": 17,
   "metadata": {},
   "outputs": [
    {
     "data": {
      "image/png": "[encoded data removed]",
      "text/plain": [
       "<Figure size 432x288 with 1 Axes>"
      ]
     },
     "metadata": {
      "needs_background": "light"
     },
     "output_type": "display_data"
    }
   ],
   "source": [
    "### Let's try to understand better, Balance and EstimedSalary columns\n",
    "### look at the relation \n",
    "\n",
    "train_copy.plot.scatter(x=\"Balance\",y=\"EstimatedSalary\")\n",
    "plt.show()"
   ]
  },
  {
   "cell_type": "code",
   "execution_count": 18,
   "metadata": {},
   "outputs": [
    {
     "name": "stdout",
     "output_type": "stream",
     "text": [
      "                  Balance  EstimatedSalary\n",
      "Balance          1.000000         0.024345\n",
      "EstimatedSalary  0.024345         1.000000\n"
     ]
    }
   ],
   "source": [
    "correlation= train_copy[[\"Balance\",\"EstimatedSalary\"]].corr()\n",
    "print(correlation)"
   ]
  },
  {
   "cell_type": "code",
   "execution_count": 19,
   "metadata": {},
   "outputs": [
    {
     "data": {
      "text/html": [
       "<div>\n",
       "<style scoped>\n",
       "    .dataframe tbody tr th:only-of-type {\n",
       "        vertical-align: middle;\n",
       "    }\n",
       "\n",
       "    .dataframe tbody tr th {\n",
       "        vertical-align: top;\n",
       "    }\n",
       "\n",
       "    .dataframe thead th {\n",
       "        text-align: right;\n",
       "    }\n",
       "</style>\n",
       "<table border=\"1\" class=\"dataframe\">\n",
       "  <thead>\n",
       "    <tr style=\"text-align: right;\">\n",
       "      <th></th>\n",
       "      <th>Balance</th>\n",
       "      <th>EstimatedSalary</th>\n",
       "    </tr>\n",
       "  </thead>\n",
       "  <tbody>\n",
       "    <tr>\n",
       "      <td>count</td>\n",
       "      <td>8000.000000</td>\n",
       "      <td>8000.000000</td>\n",
       "    </tr>\n",
       "    <tr>\n",
       "      <td>mean</td>\n",
       "      <td>76800.037192</td>\n",
       "      <td>100198.588701</td>\n",
       "    </tr>\n",
       "    <tr>\n",
       "      <td>std</td>\n",
       "      <td>62391.192584</td>\n",
       "      <td>57524.002768</td>\n",
       "    </tr>\n",
       "    <tr>\n",
       "      <td>min</td>\n",
       "      <td>0.000000</td>\n",
       "      <td>11.580000</td>\n",
       "    </tr>\n",
       "    <tr>\n",
       "      <td>25%</td>\n",
       "      <td>0.000000</td>\n",
       "      <td>51271.410000</td>\n",
       "    </tr>\n",
       "    <tr>\n",
       "      <td>50%</td>\n",
       "      <td>97658.060000</td>\n",
       "      <td>100272.165000</td>\n",
       "    </tr>\n",
       "    <tr>\n",
       "      <td>75%</td>\n",
       "      <td>127827.332500</td>\n",
       "      <td>149372.387500</td>\n",
       "    </tr>\n",
       "    <tr>\n",
       "      <td>max</td>\n",
       "      <td>250898.090000</td>\n",
       "      <td>199992.480000</td>\n",
       "    </tr>\n",
       "  </tbody>\n",
       "</table>\n",
       "</div>"
      ],
      "text/plain": [
       "             Balance  EstimatedSalary\n",
       "count    8000.000000      8000.000000\n",
       "mean    76800.037192    100198.588701\n",
       "std     62391.192584     57524.002768\n",
       "min         0.000000        11.580000\n",
       "25%         0.000000     51271.410000\n",
       "50%     97658.060000    100272.165000\n",
       "75%    127827.332500    149372.387500\n",
       "max    250898.090000    199992.480000"
      ]
     },
     "execution_count": 19,
     "metadata": {},
     "output_type": "execute_result"
    }
   ],
   "source": [
    "train_copy[[\"Balance\",\"EstimatedSalary\"]].describe(include=\"all\")"
   ]
  },
  {
   "cell_type": "code",
   "execution_count": 20,
   "metadata": {},
   "outputs": [
    {
     "data": {
      "image/png": "[encoded data removed]",
      "text/plain": [
       "<Figure size 432x288 with 1 Axes>"
      ]
     },
     "metadata": {
      "needs_background": "light"
     },
     "output_type": "display_data"
    },
    {
     "data": {
      "image/png": "[encoded data removed]",
      "text/plain": [
       "<Figure size 432x288 with 1 Axes>"
      ]
     },
     "metadata": {
      "needs_background": "light"
     },
     "output_type": "display_data"
    }
   ],
   "source": [
    "for c in [\"Balance\",\"EstimatedSalary\"]:\n",
    "    train_copy[c].plot.hist()\n",
    "    plt.show()"
   ]
  },
  {
   "cell_type": "code",
   "execution_count": 21,
   "metadata": {},
   "outputs": [],
   "source": [
    "### Let's make sum between these columns and normalize them.\n",
    "\n",
    "def process_B_E(df):\n",
    "    df[\"BE\"]= df[[\"Balance\",\"EstimatedSalary\"]].sum(axis=1)\n",
    "    df[\"BE\"]= (df[\"BE\"]-np.min(df[\"BE\"]))/(np.max(df[\"BE\"])-np.min(df[\"BE\"]))\n",
    "    df= df.drop([\"Balance\",\"EstimatedSalary\"],axis=1)\n",
    "    return df"
   ]
  },
  {
   "cell_type": "code",
   "execution_count": 22,
   "metadata": {},
   "outputs": [
    {
     "data": {
      "text/plain": [
       "array([1, 3, 2, 4], dtype=int64)"
      ]
     },
     "execution_count": 22,
     "metadata": {},
     "output_type": "execute_result"
    }
   ],
   "source": [
    "### Let's look at how to transform NumOfProducts column\n",
    "\n",
    "train_copy[\"NumOfProducts\"].unique()"
   ]
  },
  {
   "cell_type": "code",
   "execution_count": 23,
   "metadata": {},
   "outputs": [],
   "source": [
    "def process_NumOfProducts(df):\n",
    "    dummies = pd.get_dummies(df[\"NumOfProducts\"],prefix=\"NumOfProducts\")\n",
    "    df = pd.concat([df,dummies],axis=1)\n",
    "    df= df.drop(\"NumOfProducts\",axis=1)\n",
    "    return df"
   ]
  },
  {
   "cell_type": "code",
   "execution_count": 24,
   "metadata": {},
   "outputs": [],
   "source": [
    "### Now let's assemble our functions\n",
    "\n",
    "def process_engineering(df):\n",
    "    \"\"\"Create a dataframe who getting all features engineering process\n",
    "    \n",
    "        Usage\n",
    "        ------     \n",
    "        \n",
    "        return: df= process_engineering(df)\n",
    "    \"\"\"\n",
    "    \n",
    "    df= process_CreditScore(df)\n",
    "    df= process_Geography(df)\n",
    "    df= process_Gender(df)\n",
    "    df= process_Age(df)\n",
    "    df= process_B_E(df)\n",
    "    df= process_NumOfProducts(df)\n",
    "    return df\n",
    "\n",
    "train_copy= process_engineering(train_copy)\n",
    "holdout_copy= process_engineering(holdout_copy)"
   ]
  },
  {
   "cell_type": "code",
   "execution_count": 25,
   "metadata": {},
   "outputs": [
    {
     "name": "stdout",
     "output_type": "stream",
     "text": [
      "(8000, 16)\n"
     ]
    },
    {
     "data": {
      "text/html": [
       "<div>\n",
       "<style scoped>\n",
       "    .dataframe tbody tr th:only-of-type {\n",
       "        vertical-align: middle;\n",
       "    }\n",
       "\n",
       "    .dataframe tbody tr th {\n",
       "        vertical-align: top;\n",
       "    }\n",
       "\n",
       "    .dataframe thead th {\n",
       "        text-align: right;\n",
       "    }\n",
       "</style>\n",
       "<table border=\"1\" class=\"dataframe\">\n",
       "  <thead>\n",
       "    <tr style=\"text-align: right;\">\n",
       "      <th></th>\n",
       "      <th>CreditScore</th>\n",
       "      <th>Tenure</th>\n",
       "      <th>Exited</th>\n",
       "      <th>Geography_France</th>\n",
       "      <th>Geography_Germany</th>\n",
       "      <th>Geography_Spain</th>\n",
       "      <th>Gender_Female</th>\n",
       "      <th>Gender_Male</th>\n",
       "      <th>Age_Young Adult</th>\n",
       "      <th>Age_Adult</th>\n",
       "      <th>Age_Senior</th>\n",
       "      <th>BE</th>\n",
       "      <th>NumOfProducts_1</th>\n",
       "      <th>NumOfProducts_2</th>\n",
       "      <th>NumOfProducts_3</th>\n",
       "      <th>NumOfProducts_4</th>\n",
       "    </tr>\n",
       "  </thead>\n",
       "  <tbody>\n",
       "    <tr>\n",
       "      <td>0</td>\n",
       "      <td>2</td>\n",
       "      <td>2</td>\n",
       "      <td>1</td>\n",
       "      <td>1</td>\n",
       "      <td>0</td>\n",
       "      <td>0</td>\n",
       "      <td>1</td>\n",
       "      <td>0</td>\n",
       "      <td>0</td>\n",
       "      <td>1</td>\n",
       "      <td>0</td>\n",
       "      <td>0.248391</td>\n",
       "      <td>1</td>\n",
       "      <td>0</td>\n",
       "      <td>0</td>\n",
       "      <td>0</td>\n",
       "    </tr>\n",
       "    <tr>\n",
       "      <td>1</td>\n",
       "      <td>2</td>\n",
       "      <td>1</td>\n",
       "      <td>0</td>\n",
       "      <td>0</td>\n",
       "      <td>0</td>\n",
       "      <td>1</td>\n",
       "      <td>1</td>\n",
       "      <td>0</td>\n",
       "      <td>0</td>\n",
       "      <td>1</td>\n",
       "      <td>0</td>\n",
       "      <td>0.481446</td>\n",
       "      <td>1</td>\n",
       "      <td>0</td>\n",
       "      <td>0</td>\n",
       "      <td>0</td>\n",
       "    </tr>\n",
       "    <tr>\n",
       "      <td>2</td>\n",
       "      <td>1</td>\n",
       "      <td>8</td>\n",
       "      <td>1</td>\n",
       "      <td>1</td>\n",
       "      <td>0</td>\n",
       "      <td>0</td>\n",
       "      <td>1</td>\n",
       "      <td>0</td>\n",
       "      <td>0</td>\n",
       "      <td>1</td>\n",
       "      <td>0</td>\n",
       "      <td>0.670934</td>\n",
       "      <td>0</td>\n",
       "      <td>0</td>\n",
       "      <td>1</td>\n",
       "      <td>0</td>\n",
       "    </tr>\n",
       "    <tr>\n",
       "      <td>3</td>\n",
       "      <td>2</td>\n",
       "      <td>1</td>\n",
       "      <td>0</td>\n",
       "      <td>1</td>\n",
       "      <td>0</td>\n",
       "      <td>0</td>\n",
       "      <td>1</td>\n",
       "      <td>0</td>\n",
       "      <td>0</td>\n",
       "      <td>1</td>\n",
       "      <td>0</td>\n",
       "      <td>0.229937</td>\n",
       "      <td>0</td>\n",
       "      <td>1</td>\n",
       "      <td>0</td>\n",
       "      <td>0</td>\n",
       "    </tr>\n",
       "    <tr>\n",
       "      <td>4</td>\n",
       "      <td>3</td>\n",
       "      <td>2</td>\n",
       "      <td>0</td>\n",
       "      <td>0</td>\n",
       "      <td>0</td>\n",
       "      <td>1</td>\n",
       "      <td>1</td>\n",
       "      <td>0</td>\n",
       "      <td>0</td>\n",
       "      <td>1</td>\n",
       "      <td>0</td>\n",
       "      <td>0.501671</td>\n",
       "      <td>1</td>\n",
       "      <td>0</td>\n",
       "      <td>0</td>\n",
       "      <td>0</td>\n",
       "    </tr>\n",
       "  </tbody>\n",
       "</table>\n",
       "</div>"
      ],
      "text/plain": [
       "   CreditScore  Tenure  Exited  Geography_France  Geography_Germany  \\\n",
       "0            2       2       1                 1                  0   \n",
       "1            2       1       0                 0                  0   \n",
       "2            1       8       1                 1                  0   \n",
       "3            2       1       0                 1                  0   \n",
       "4            3       2       0                 0                  0   \n",
       "\n",
       "   Geography_Spain  Gender_Female  Gender_Male  Age_Young Adult  Age_Adult  \\\n",
       "0                0              1            0                0          1   \n",
       "1                1              1            0                0          1   \n",
       "2                0              1            0                0          1   \n",
       "3                0              1            0                0          1   \n",
       "4                1              1            0                0          1   \n",
       "\n",
       "   Age_Senior        BE  NumOfProducts_1  NumOfProducts_2  NumOfProducts_3  \\\n",
       "0           0  0.248391                1                0                0   \n",
       "1           0  0.481446                1                0                0   \n",
       "2           0  0.670934                0                0                1   \n",
       "3           0  0.229937                0                1                0   \n",
       "4           0  0.501671                1                0                0   \n",
       "\n",
       "   NumOfProducts_4  \n",
       "0                0  \n",
       "1                0  \n",
       "2                0  \n",
       "3                0  \n",
       "4                0  "
      ]
     },
     "execution_count": 25,
     "metadata": {},
     "output_type": "execute_result"
    }
   ],
   "source": [
    "print(train_copy.shape)\n",
    "train_copy.head()"
   ]
  },
  {
   "cell_type": "code",
   "execution_count": 26,
   "metadata": {},
   "outputs": [
    {
     "name": "stdout",
     "output_type": "stream",
     "text": [
      "(2000, 16)\n"
     ]
    },
    {
     "data": {
      "text/html": [
       "<div>\n",
       "<style scoped>\n",
       "    .dataframe tbody tr th:only-of-type {\n",
       "        vertical-align: middle;\n",
       "    }\n",
       "\n",
       "    .dataframe tbody tr th {\n",
       "        vertical-align: top;\n",
       "    }\n",
       "\n",
       "    .dataframe thead th {\n",
       "        text-align: right;\n",
       "    }\n",
       "</style>\n",
       "<table border=\"1\" class=\"dataframe\">\n",
       "  <thead>\n",
       "    <tr style=\"text-align: right;\">\n",
       "      <th></th>\n",
       "      <th>CreditScore</th>\n",
       "      <th>Tenure</th>\n",
       "      <th>Exited</th>\n",
       "      <th>Geography_France</th>\n",
       "      <th>Geography_Germany</th>\n",
       "      <th>Geography_Spain</th>\n",
       "      <th>Gender_Female</th>\n",
       "      <th>Gender_Male</th>\n",
       "      <th>Age_Young Adult</th>\n",
       "      <th>Age_Adult</th>\n",
       "      <th>Age_Senior</th>\n",
       "      <th>BE</th>\n",
       "      <th>NumOfProducts_1</th>\n",
       "      <th>NumOfProducts_2</th>\n",
       "      <th>NumOfProducts_3</th>\n",
       "      <th>NumOfProducts_4</th>\n",
       "    </tr>\n",
       "  </thead>\n",
       "  <tbody>\n",
       "    <tr>\n",
       "      <td>0</td>\n",
       "      <td>3</td>\n",
       "      <td>8</td>\n",
       "      <td>0</td>\n",
       "      <td>0</td>\n",
       "      <td>1</td>\n",
       "      <td>0</td>\n",
       "      <td>0</td>\n",
       "      <td>1</td>\n",
       "      <td>0</td>\n",
       "      <td>1</td>\n",
       "      <td>0</td>\n",
       "      <td>0.739206</td>\n",
       "      <td>0</td>\n",
       "      <td>1</td>\n",
       "      <td>0</td>\n",
       "      <td>0</td>\n",
       "    </tr>\n",
       "    <tr>\n",
       "      <td>1</td>\n",
       "      <td>2</td>\n",
       "      <td>9</td>\n",
       "      <td>0</td>\n",
       "      <td>0</td>\n",
       "      <td>0</td>\n",
       "      <td>1</td>\n",
       "      <td>0</td>\n",
       "      <td>1</td>\n",
       "      <td>1</td>\n",
       "      <td>0</td>\n",
       "      <td>0</td>\n",
       "      <td>0.329883</td>\n",
       "      <td>0</td>\n",
       "      <td>1</td>\n",
       "      <td>0</td>\n",
       "      <td>0</td>\n",
       "    </tr>\n",
       "    <tr>\n",
       "      <td>2</td>\n",
       "      <td>1</td>\n",
       "      <td>1</td>\n",
       "      <td>0</td>\n",
       "      <td>0</td>\n",
       "      <td>0</td>\n",
       "      <td>1</td>\n",
       "      <td>0</td>\n",
       "      <td>1</td>\n",
       "      <td>0</td>\n",
       "      <td>1</td>\n",
       "      <td>0</td>\n",
       "      <td>0.348311</td>\n",
       "      <td>0</td>\n",
       "      <td>1</td>\n",
       "      <td>0</td>\n",
       "      <td>0</td>\n",
       "    </tr>\n",
       "    <tr>\n",
       "      <td>3</td>\n",
       "      <td>2</td>\n",
       "      <td>6</td>\n",
       "      <td>1</td>\n",
       "      <td>0</td>\n",
       "      <td>0</td>\n",
       "      <td>1</td>\n",
       "      <td>0</td>\n",
       "      <td>1</td>\n",
       "      <td>0</td>\n",
       "      <td>1</td>\n",
       "      <td>0</td>\n",
       "      <td>0.501988</td>\n",
       "      <td>0</td>\n",
       "      <td>1</td>\n",
       "      <td>0</td>\n",
       "      <td>0</td>\n",
       "    </tr>\n",
       "    <tr>\n",
       "      <td>4</td>\n",
       "      <td>2</td>\n",
       "      <td>5</td>\n",
       "      <td>0</td>\n",
       "      <td>1</td>\n",
       "      <td>0</td>\n",
       "      <td>0</td>\n",
       "      <td>0</td>\n",
       "      <td>1</td>\n",
       "      <td>0</td>\n",
       "      <td>1</td>\n",
       "      <td>0</td>\n",
       "      <td>0.430140</td>\n",
       "      <td>0</td>\n",
       "      <td>1</td>\n",
       "      <td>0</td>\n",
       "      <td>0</td>\n",
       "    </tr>\n",
       "  </tbody>\n",
       "</table>\n",
       "</div>"
      ],
      "text/plain": [
       "   CreditScore  Tenure  Exited  Geography_France  Geography_Germany  \\\n",
       "0            3       8       0                 0                  1   \n",
       "1            2       9       0                 0                  0   \n",
       "2            1       1       0                 0                  0   \n",
       "3            2       6       1                 0                  0   \n",
       "4            2       5       0                 1                  0   \n",
       "\n",
       "   Geography_Spain  Gender_Female  Gender_Male  Age_Young Adult  Age_Adult  \\\n",
       "0                0              0            1                0          1   \n",
       "1                1              0            1                1          0   \n",
       "2                1              0            1                0          1   \n",
       "3                1              0            1                0          1   \n",
       "4                0              0            1                0          1   \n",
       "\n",
       "   Age_Senior        BE  NumOfProducts_1  NumOfProducts_2  NumOfProducts_3  \\\n",
       "0           0  0.739206                0                1                0   \n",
       "1           0  0.329883                0                1                0   \n",
       "2           0  0.348311                0                1                0   \n",
       "3           0  0.501988                0                1                0   \n",
       "4           0  0.430140                0                1                0   \n",
       "\n",
       "   NumOfProducts_4  \n",
       "0                0  \n",
       "1                0  \n",
       "2                0  \n",
       "3                0  \n",
       "4                0  "
      ]
     },
     "execution_count": 26,
     "metadata": {},
     "output_type": "execute_result"
    }
   ],
   "source": [
    "print(holdout_copy.shape)\n",
    "holdout_copy.head()"
   ]
  },
  {
   "cell_type": "markdown",
   "metadata": {},
   "source": [
    "### III- <u>Feature engineering</u>"
   ]
  },
  {
   "cell_type": "code",
   "execution_count": 27,
   "metadata": {},
   "outputs": [
    {
     "name": "stdout",
     "output_type": "stream",
     "text": [
      "CreditScore            int64\n",
      "Tenure                 int64\n",
      "Exited                 int64\n",
      "Geography_France       uint8\n",
      "Geography_Germany      uint8\n",
      "Geography_Spain        uint8\n",
      "Gender_Female          uint8\n",
      "Gender_Male            uint8\n",
      "Age_Young Adult        uint8\n",
      "Age_Adult              uint8\n",
      "Age_Senior             uint8\n",
      "BE                   float64\n",
      "NumOfProducts_1        uint8\n",
      "NumOfProducts_2        uint8\n",
      "NumOfProducts_3        uint8\n",
      "NumOfProducts_4        uint8\n",
      "dtype: object\n",
      "CreditScore            int64\n",
      "Tenure                 int64\n",
      "Exited                 int64\n",
      "Geography_France       uint8\n",
      "Geography_Germany      uint8\n",
      "Geography_Spain        uint8\n",
      "Gender_Female          uint8\n",
      "Gender_Male            uint8\n",
      "Age_Young Adult        uint8\n",
      "Age_Adult              uint8\n",
      "Age_Senior             uint8\n",
      "BE                   float64\n",
      "NumOfProducts_1        uint8\n",
      "NumOfProducts_2        uint8\n",
      "NumOfProducts_3        uint8\n",
      "NumOfProducts_4        uint8\n",
      "dtype: object\n"
     ]
    }
   ],
   "source": [
    "print(train_copy.dtypes)\n",
    "print(holdout_copy.dtypes)"
   ]
  },
  {
   "cell_type": "code",
   "execution_count": 28,
   "metadata": {},
   "outputs": [
    {
     "name": "stdout",
     "output_type": "stream",
     "text": [
      "CreditScore            int64\n",
      "Tenure                 int64\n",
      "Exited                 int64\n",
      "Geography_France       int64\n",
      "Geography_Germany      int64\n",
      "Geography_Spain        int64\n",
      "Gender_Female          int64\n",
      "Gender_Male            int64\n",
      "Age_Young Adult        int64\n",
      "Age_Adult              int64\n",
      "Age_Senior             int64\n",
      "BE                   float64\n",
      "NumOfProducts_1        int64\n",
      "NumOfProducts_2        int64\n",
      "NumOfProducts_3        int64\n",
      "NumOfProducts_4        int64\n",
      "dtype: object\n",
      "CreditScore            int64\n",
      "Tenure                 int64\n",
      "Exited                 int64\n",
      "Geography_France       int64\n",
      "Geography_Germany      int64\n",
      "Geography_Spain        int64\n",
      "Gender_Female          int64\n",
      "Gender_Male            int64\n",
      "Age_Young Adult        int64\n",
      "Age_Adult              int64\n",
      "Age_Senior             int64\n",
      "BE                   float64\n",
      "NumOfProducts_1        int64\n",
      "NumOfProducts_2        int64\n",
      "NumOfProducts_3        int64\n",
      "NumOfProducts_4        int64\n",
      "dtype: object\n"
     ]
    }
   ],
   "source": [
    "s_col=['CreditScore', 'Tenure', 'Exited', 'Geography_France',\n",
    "       'Geography_Germany', 'Geography_Spain', 'Gender_Female', 'Gender_Male',\n",
    "       'Age_Young Adult', 'Age_Adult', 'Age_Senior', 'NumOfProducts_1',\n",
    "       'NumOfProducts_2', 'NumOfProducts_3', 'NumOfProducts_4']\n",
    "for c in s_col:\n",
    "    train_copy[c]= train_copy[c].astype(\"int64\")\n",
    "    holdout_copy[c]= holdout_copy[c].astype(\"int64\")\n",
    "print(train_copy.dtypes)\n",
    "print(holdout_copy.dtypes)"
   ]
  },
  {
   "cell_type": "markdown",
   "metadata": {},
   "source": [
    "**Recursivity and cross-validation**\n",
    "\n",
    "![](img/Escher_hands_2.jpg)\n",
    "![](img/cv.jpg)"
   ]
  },
  {
   "cell_type": "code",
   "execution_count": 29,
   "metadata": {},
   "outputs": [
    {
     "name": "stdout",
     "output_type": "stream",
     "text": [
      "Index(['CreditScore', 'Tenure', 'Geography_France', 'Geography_Germany',\n",
      "       'Gender_Female', 'Gender_Male', 'Age_Young Adult', 'Age_Adult', 'BE',\n",
      "       'NumOfProducts_1', 'NumOfProducts_2', 'NumOfProducts_3',\n",
      "       'NumOfProducts_4'],\n",
      "      dtype='object')\n"
     ]
    }
   ],
   "source": [
    "### Now we gonna search the best features who perfom better.\n",
    "\n",
    "from sklearn.feature_selection import RFECV\n",
    "from sklearn.ensemble import RandomForestClassifier\n",
    "import warnings\n",
    "\n",
    "\n",
    "def process_select(df):\n",
    "    \"\"\"Create a list with the best features selected\n",
    "    \n",
    "        Usage\n",
    "        --------\n",
    "    \n",
    "        Return: features= process_select(df)\n",
    "    \"\"\"\n",
    "\n",
    "    warnings.filterwarnings(\"ignore\")\n",
    "    all_X= df[df.drop([\"Exited\"],axis=1).columns]\n",
    "    all_y= df[\"Exited\"]\n",
    "    rf= RandomForestClassifier(random_state=1)\n",
    "    selector= RFECV(rf,cv= 10)\n",
    "    selector.fit(all_X,all_y)\n",
    "    optimized_columns= all_X.columns[selector.support_] \n",
    "    return optimized_columns\n",
    "\n",
    "optimized_columns= process_select(train_copy)\n",
    "print(optimized_columns)"
   ]
  },
  {
   "cell_type": "markdown",
   "metadata": {},
   "source": [
    "### IV- <u>Feature select/tuning</u>"
   ]
  },
  {
   "cell_type": "markdown",
   "metadata": {},
   "source": [
    "**Let's select columns adapted**\n",
    "\n",
    "![](img/ml_map.png)"
   ]
  },
  {
   "cell_type": "markdown",
   "metadata": {},
   "source": [
    "***We gonna used \"Decision tree, Random forest, Logistal regression, k nearst neighbors\" models***"
   ]
  },
  {
   "cell_type": "code",
   "execution_count": 34,
   "metadata": {},
   "outputs": [],
   "source": [
    "### Let's use a grid search for to perfom our best model\n",
    "\n",
    "from sklearn.tree import DecisionTreeClassifier\n",
    "from sklearn.ensemble import RandomForestClassifier\n",
    "from sklearn.linear_model import LogisticRegression\n",
    "from sklearn.neighbors import KNeighborsClassifier\n",
    "from sklearn.model_selection import GridSearchCV\n",
    "\n",
    "def select_model(df,features):\n",
    "    \"\"\"Create a gridSearch function for to find the best model\n",
    "    \n",
    "        Usage\n",
    "        ---------\n",
    "    \n",
    "        Return: models\n",
    "    \"\"\"\n",
    "    \n",
    "    all_X= df[features]\n",
    "    all_y= df[\"Exited\"]\n",
    "    \n",
    "    models= [\n",
    "                {\"name\": \"LogisticRegression\",\n",
    "                 \"estimator\": LogisticRegression(),\n",
    "                 \"hyperparameters\": {\n",
    "                     \"solver\": [\"newton-cg\", \"lbfgs\", \"liblinear\"]\n",
    "                 }\n",
    "                },\n",
    "                {\n",
    "                    \"name\": \"KNeighborsClassifier\",\n",
    "                    \"estimator\": KNeighborsClassifier(),\n",
    "                    \"hyperparameters\": {\n",
    "                        \"n_neighbors\": range(1,20,2),\n",
    "                        \"weights\": [\"distance\", \"uniform\"],\n",
    "                        \"algorithm\": [\"ball_tree\", \"kd_tree\", \"brute\"],\n",
    "                        \"p\": [1,2]\n",
    "                        }\n",
    "                },\n",
    "                {\n",
    "                    \"name\": \"DecisionTreeClassifier\",\n",
    "                    \"estimator\": DecisionTreeClassifier(),\n",
    "                    \"hyperparameters\": {\n",
    "                        \"criterion\": [\"entropy\", \"gini\"],\n",
    "                        \"max_depth\": [2, 5, 10],\n",
    "                        \"max_features\": [\"log2\", \"sqrt\"],\n",
    "                        \"min_samples_leaf\": [1, 5, 8],\n",
    "                        \"min_samples_split\": [2, 3, 5]\n",
    "                        }\n",
    "                 },\n",
    "                {\n",
    "                    \"name\": \"RandomForestClassifier\",\n",
    "                    \"estimator\": RandomForestClassifier(),\n",
    "                    \"hyperparameters\": {\n",
    "                        \"n_estimators\": [4, 6, 9],\n",
    "                        \"criterion\": [\"entropy\", \"gini\"],\n",
    "                        \"max_depth\": [2, 5, 10],\n",
    "                        \"max_features\": [\"log2\", \"sqrt\"],\n",
    "                        \"min_samples_leaf\": [1, 5, 8],\n",
    "                        \"min_samples_split\": [2, 3, 5]\n",
    "                        }\n",
    "                 }          \n",
    "            ]\n",
    "    for m in models:\n",
    "        print(m[\"name\"])\n",
    "        gs= GridSearchCV(m[\"estimator\"],param_grid= m[\"hyperparameters\"],cv= 10)\n",
    "        gs.fit(all_X,all_y)\n",
    "        m[\"best_params\"]= gs.best_params_\n",
    "        m[\"best_score_\"]= gs.best_score_\n",
    "        m[\"best_estimator\"]= gs.best_estimator_\n",
    "        print(\"the best params: {}\".format(m[\"best_params\"]))\n",
    "        print(\"the best score: {}\".format(m[\"best_score_\"]))\n",
    "        print(\"the best estimator: {}\".format(m[\"best_estimator\"]))\n",
    "    return models\n"
   ]
  },
  {
   "cell_type": "code",
   "execution_count": 35,
   "metadata": {},
   "outputs": [
    {
     "name": "stdout",
     "output_type": "stream",
     "text": [
      "LogisticRegression\n",
      "the best params: {'solver': 'lbfgs'}\n",
      "the best score: 0.826\n",
      "the best estimator: LogisticRegression(C=1.0, class_weight=None, dual=False, fit_intercept=True,\n",
      "                   intercept_scaling=1, l1_ratio=None, max_iter=100,\n",
      "                   multi_class='warn', n_jobs=None, penalty='l2',\n",
      "                   random_state=None, solver='lbfgs', tol=0.0001, verbose=0,\n",
      "                   warm_start=False)\n",
      "KNeighborsClassifier\n",
      "the best params: {'algorithm': 'ball_tree', 'n_neighbors': 15, 'p': 1, 'weights': 'uniform'}\n",
      "the best score: 0.813\n",
      "the best estimator: KNeighborsClassifier(algorithm='ball_tree', leaf_size=30, metric='minkowski',\n",
      "                     metric_params=None, n_jobs=None, n_neighbors=15, p=1,\n",
      "                     weights='uniform')\n",
      "DecisionTreeClassifier\n",
      "the best params: {'criterion': 'entropy', 'max_depth': 5, 'max_features': 'sqrt', 'min_samples_leaf': 1, 'min_samples_split': 2}\n",
      "the best score: 0.824\n",
      "the best estimator: DecisionTreeClassifier(class_weight=None, criterion='entropy', max_depth=5,\n",
      "                       max_features='sqrt', max_leaf_nodes=None,\n",
      "                       min_impurity_decrease=0.0, min_impurity_split=None,\n",
      "                       min_samples_leaf=1, min_samples_split=2,\n",
      "                       min_weight_fraction_leaf=0.0, presort=False,\n",
      "                       random_state=None, splitter='best')\n",
      "RandomForestClassifier\n",
      "the best params: {'criterion': 'entropy', 'max_depth': 10, 'max_features': 'log2', 'min_samples_leaf': 8, 'min_samples_split': 5, 'n_estimators': 6}\n",
      "the best score: 0.82825\n",
      "the best estimator: RandomForestClassifier(bootstrap=True, class_weight=None, criterion='entropy',\n",
      "                       max_depth=10, max_features='log2', max_leaf_nodes=None,\n",
      "                       min_impurity_decrease=0.0, min_impurity_split=None,\n",
      "                       min_samples_leaf=8, min_samples_split=5,\n",
      "                       min_weight_fraction_leaf=0.0, n_estimators=6,\n",
      "                       n_jobs=None, oob_score=False, random_state=None,\n",
      "                       verbose=0, warm_start=False)\n"
     ]
    }
   ],
   "source": [
    "optimized_models= select_model(train_copy,optimized_columns)"
   ]
  },
  {
   "cell_type": "code",
   "execution_count": 36,
   "metadata": {},
   "outputs": [
    {
     "data": {
      "text/plain": [
       "RandomForestClassifier(bootstrap=True, class_weight=None, criterion='entropy',\n",
       "                       max_depth=10, max_features='log2', max_leaf_nodes=None,\n",
       "                       min_impurity_decrease=0.0, min_impurity_split=None,\n",
       "                       min_samples_leaf=8, min_samples_split=5,\n",
       "                       min_weight_fraction_leaf=0.0, n_estimators=6,\n",
       "                       n_jobs=None, oob_score=False, random_state=None,\n",
       "                       verbose=0, warm_start=False)"
      ]
     },
     "execution_count": 36,
     "metadata": {},
     "output_type": "execute_result"
    }
   ],
   "source": [
    "model= optimized_models[3][\"best_estimator\"]\n",
    "model"
   ]
  },
  {
   "cell_type": "markdown",
   "metadata": {},
   "source": [
    "**Let's evaluate the metrics: Area Under the Curve and Confusion matrix**\n",
    "\n",
    "![](img/roc.png)\n",
    "\n",
    "\n",
    "![](img/confus.jpg)"
   ]
  },
  {
   "cell_type": "code",
   "execution_count": 37,
   "metadata": {},
   "outputs": [],
   "source": [
    "from sklearn.metrics import confusion_matrix\n",
    "from sklearn.metrics import roc_auc_score\n",
    "from sklearn.metrics import roc_curve\n",
    "\n",
    "all_X= train_copy[optimized_columns]\n",
    "all_y= train_copy[\"Exited\"]\n",
    "\n",
    "def pred_df(clf, all_X, all_y):\n",
    "    clf = clf.fit(all_X,all_y)\n",
    "    y_pred = clf.predict(all_X)\n",
    "    y_proba = clf.predict_proba(all_X)[:,1]\n",
    "    pred_df = pd.DataFrame({\"actual\": np.array(all_y), \"predicted\": y_pred, \"probability\": y_proba})\n",
    "    return pred_df"
   ]
  },
  {
   "cell_type": "code",
   "execution_count": 38,
   "metadata": {},
   "outputs": [
    {
     "data": {
      "text/html": [
       "<div>\n",
       "<style scoped>\n",
       "    .dataframe tbody tr th:only-of-type {\n",
       "        vertical-align: middle;\n",
       "    }\n",
       "\n",
       "    .dataframe tbody tr th {\n",
       "        vertical-align: top;\n",
       "    }\n",
       "\n",
       "    .dataframe thead th {\n",
       "        text-align: right;\n",
       "    }\n",
       "</style>\n",
       "<table border=\"1\" class=\"dataframe\">\n",
       "  <thead>\n",
       "    <tr style=\"text-align: right;\">\n",
       "      <th></th>\n",
       "      <th>actual</th>\n",
       "      <th>predicted</th>\n",
       "      <th>probability</th>\n",
       "    </tr>\n",
       "  </thead>\n",
       "  <tbody>\n",
       "    <tr>\n",
       "      <td>0</td>\n",
       "      <td>1</td>\n",
       "      <td>0</td>\n",
       "      <td>0.470761</td>\n",
       "    </tr>\n",
       "    <tr>\n",
       "      <td>1</td>\n",
       "      <td>0</td>\n",
       "      <td>0</td>\n",
       "      <td>0.305590</td>\n",
       "    </tr>\n",
       "    <tr>\n",
       "      <td>2</td>\n",
       "      <td>1</td>\n",
       "      <td>1</td>\n",
       "      <td>0.857166</td>\n",
       "    </tr>\n",
       "    <tr>\n",
       "      <td>3</td>\n",
       "      <td>0</td>\n",
       "      <td>0</td>\n",
       "      <td>0.067616</td>\n",
       "    </tr>\n",
       "    <tr>\n",
       "      <td>4</td>\n",
       "      <td>0</td>\n",
       "      <td>0</td>\n",
       "      <td>0.323186</td>\n",
       "    </tr>\n",
       "  </tbody>\n",
       "</table>\n",
       "</div>"
      ],
      "text/plain": [
       "   actual  predicted  probability\n",
       "0       1          0     0.470761\n",
       "1       0          0     0.305590\n",
       "2       1          1     0.857166\n",
       "3       0          0     0.067616\n",
       "4       0          0     0.323186"
      ]
     },
     "execution_count": 38,
     "metadata": {},
     "output_type": "execute_result"
    }
   ],
   "source": [
    "pred_dt = pred_df(model, all_X,all_y)\n",
    "pred_dt.head()"
   ]
  },
  {
   "cell_type": "code",
   "execution_count": 41,
   "metadata": {},
   "outputs": [
    {
     "data": {
      "text/html": [
       "<div>\n",
       "<style scoped>\n",
       "    .dataframe tbody tr th:only-of-type {\n",
       "        vertical-align: middle;\n",
       "    }\n",
       "\n",
       "    .dataframe tbody tr th {\n",
       "        vertical-align: top;\n",
       "    }\n",
       "\n",
       "    .dataframe thead th {\n",
       "        text-align: right;\n",
       "    }\n",
       "</style>\n",
       "<table border=\"1\" class=\"dataframe\">\n",
       "  <thead>\n",
       "    <tr style=\"text-align: right;\">\n",
       "      <th>actual</th>\n",
       "      <th>0</th>\n",
       "      <th>1</th>\n",
       "    </tr>\n",
       "    <tr>\n",
       "      <th>predicted</th>\n",
       "      <th></th>\n",
       "      <th></th>\n",
       "    </tr>\n",
       "  </thead>\n",
       "  <tbody>\n",
       "    <tr>\n",
       "      <td>0</td>\n",
       "      <td>6095</td>\n",
       "      <td>1053</td>\n",
       "    </tr>\n",
       "    <tr>\n",
       "      <td>1</td>\n",
       "      <td>258</td>\n",
       "      <td>594</td>\n",
       "    </tr>\n",
       "  </tbody>\n",
       "</table>\n",
       "</div>"
      ],
      "text/plain": [
       "actual        0     1\n",
       "predicted            \n",
       "0          6095  1053\n",
       "1           258   594"
      ]
     },
     "execution_count": 41,
     "metadata": {},
     "output_type": "execute_result"
    }
   ],
   "source": [
    "pd.crosstab(pred_dt.predicted, pred_dt.actual)"
   ]
  },
  {
   "cell_type": "code",
   "execution_count": 42,
   "metadata": {},
   "outputs": [],
   "source": [
    "def plot_roc_auc(pred_df):\n",
    "    fpr, tpr, thresholds = roc_curve(pred_df.actual, pred_df.probability)\n",
    "    auc_score = roc_auc_score(pred_df.actual,pred_df.probability)\n",
    "    plt.plot(fpr, tpr, label='AUC = %0.2f' % auc_score)\n",
    "    plt.xlabel(\"False Positive Rate\")\n",
    "    plt.ylabel(\"True Positive Rate\")\n",
    "    plt.legend(loc=\"lower right\")\n",
    "    return print(\"AUC = %0.2f\" % auc_score)"
   ]
  },
  {
   "cell_type": "code",
   "execution_count": 43,
   "metadata": {},
   "outputs": [
    {
     "name": "stdout",
     "output_type": "stream",
     "text": [
      "AUC = 0.86\n"
     ]
    },
    {
     "data": {
      "image/png": "[encoded data removed]",
      "text/plain": [
       "<Figure size 432x288 with 1 Axes>"
      ]
     },
     "metadata": {
      "needs_background": "light"
     },
     "output_type": "display_data"
    }
   ],
   "source": [
    "plot_roc_auc(pred_dt)"
   ]
  },
  {
   "cell_type": "code",
   "execution_count": 44,
   "metadata": {},
   "outputs": [],
   "source": [
    "### Let's make our predictions and save them!\n",
    "\n",
    "def save_submission_file(trained_model,cols,filename):\n",
    "    predictions= trained_model.predict(holdout_copy[cols])\n",
    "    df= {\n",
    "        \"Exited\": holdout[\"Exited\"],\n",
    "        \"Prediction\": predictions\n",
    "    }\n",
    "    submission_df= pd.DataFrame(df)\n",
    "    submission_df.to_csv(filename,index= False)"
   ]
  },
  {
   "cell_type": "code",
   "execution_count": 45,
   "metadata": {},
   "outputs": [],
   "source": [
    "save_submission_file(model,optimized_columns,\"Churn_predict.csv\")"
   ]
  },
  {
   "cell_type": "markdown",
   "metadata": {},
   "source": [
    "Thank you for reading!"
   ]
  },
  {
   "cell_type": "code",
   "execution_count": null,
   "metadata": {},
   "outputs": [],
   "source": []
  }
 ],
 "metadata": {
  "kernelspec": {
   "display_name": "Python 3",
   "language": "python",
   "name": "python3"
  },
  "language_info": {
   "codemirror_mode": {
    "name": "ipython",
    "version": 3
   },
   "file_extension": ".py",
   "mimetype": "text/x-python",
   "name": "python",
   "nbconvert_exporter": "python",
   "pygments_lexer": "ipython3",
   "version": "3.7.4"
  }
 },
 "nbformat": 4,
 "nbformat_minor": 4
}
